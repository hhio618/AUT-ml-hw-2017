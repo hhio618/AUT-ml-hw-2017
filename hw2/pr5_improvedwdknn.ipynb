{
 "cells": [
  {
   "cell_type": "code",
   "execution_count": 2,
   "metadata": {},
   "outputs": [
    {
     "name": "stdout",
     "output_type": "stream",
     "text": [
      "For data/wdknn/ecoli0267vs35.txt\n",
      "[ 0.878       0.67        0.72498413  0.7981435 ]\n",
      "For data/wdknn/ecoli3.txt\n",
      "[ 0.63280952  0.57142857  0.5639019   0.72685806]\n",
      "For data/wdknn/yeast0256vs3789.txt\n",
      "[ 0.63507433  0.54526316  0.57901207  0.72219889]\n",
      "For data/wdknn/yeast02579vs368.txt\n",
      "[ 0.80033339  0.80210526  0.79793325  0.88495269]\n",
      "For data/wdknn/yeast0359vs78.txt\n",
      "[ 0.51968254  0.384       0.42878342  0.59984799]\n",
      "For data/wdknn/yeast2vs4.txt\n",
      "[ 0.85172294  0.712       0.76162378  0.83296637]\n",
      "For data/wdknn/yeast3.txt\n",
      "[ 0.75232686  0.7175      0.73064641  0.83229176]\n",
      "Overall Avgs -->\n",
      "[ 0.72427851  0.62889957  0.65526928  0.77103704]\n"
     ]
    }
   ],
   "source": [
    "#\n",
    "# Created by Homayoun Heidarzadeh\n",
    "#\n",
    "from base.impovedwdknn import ImprovedWDKNN\n",
    "from data import data\n",
    "import numpy as np\n",
    "from glob import glob\n",
    "\n",
    "if __name__ == '__main__':\n",
    "    # prepare data\n",
    "    # generate predictions\n",
    "    results = []\n",
    "    for name in glob(\"data/wdknn/*.txt\"):\n",
    "        print \"For\", name\n",
    "        X = data.load_data(name, delm=',')[:, :-1]\n",
    "        label = data.load_data(name, delm=',', dtype=int)[:, -1]\n",
    "        np.random.seed(0)\n",
    "        permutaion = np.random.permutation(X.shape[0])\n",
    "        X = X[permutaion]\n",
    "        label = label[permutaion]\n",
    "        X = (X - X.mean(axis=0)) / X.std(axis=0)\n",
    "        result = ImprovedWDKNN.cross_validation_for_k([1, 2, 3, 4, 5], X, label)\n",
    "        print result\n",
    "        results.append(result)\n",
    "    print \"Overall Avgs -->\"\n",
    "    print np.mean(results, axis=0)"
   ]
  },
  {
   "cell_type": "code",
   "execution_count": null,
   "metadata": {},
   "outputs": [],
   "source": [
    ""
   ]
  }
 ],
 "metadata": {
  "kernelspec": {
   "display_name": "Python 2",
   "language": "python",
   "name": "python2"
  },
  "language_info": {
   "codemirror_mode": {
    "name": "ipython",
    "version": 2.0
   },
   "file_extension": ".py",
   "mimetype": "text/x-python",
   "name": "python",
   "nbconvert_exporter": "python",
   "pygments_lexer": "ipython2",
   "version": "2.7.10"
  }
 },
 "nbformat": 4,
 "nbformat_minor": 0
}