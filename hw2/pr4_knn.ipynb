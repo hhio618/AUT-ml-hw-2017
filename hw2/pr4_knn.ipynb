{
 "cells": [
  {
   "cell_type": "code",
   "execution_count": 10,
   "metadata": {},
   "outputs": [],
   "source": [
    "#\n",
    "# Created by Homayoun Heidarzadeh\n",
    "#\n",
    "\n",
    "from base.distances import EuclideanRowWise, CosineRowWise, ManhattanRowWise, MinkowskiRowWise\n",
    "from data import data\n",
    "from base.knn import KNN\n",
    "import matplotlib\n",
    "%matplotlib inline \n",
    "matplotlib.interactive(False)\n",
    "import matplotlib.pyplot as plt\n",
    "if __name__ == '__main__':\n",
    "    # prepare data\n",
    "    # generate predictions\n",
    "    X = data.load_data(\"data/seeds_dataset.txt\")[:, :-1]\n",
    "    label = data.load_data(\"data/seeds_dataset.txt\", dtype=int)[:, -1]\n",
    "    X = (X - X.mean(axis=0)) / X.std(axis=0)\n",
    "    avg_list = KNN.cross_validation_for_k([1, 3, 5, 7, 10], X, label)\n",
    "    print avg_list\n",
    "    plt.title(\"(KNN)Accuracy vs k\")\n",
    "    plt.plot(avg_list[:,0],avg_list[:,1])\n",
    "    plt.show()\n",
    "    lst = [EuclideanRowWise(), ManhattanRowWise(), CosineRowWise(), MinkowskiRowWise(4), MinkowskiRowWise(0.5)]\n",
    "    avg_list = KNN.cross_validation_for_distance(5, lst, X, label)\n",
    "    print avg_list"
   ]
  },
  {
   "cell_type": "code",
   "execution_count": null,
   "metadata": {},
   "outputs": [],
   "source": [
    ""
   ]
  }
 ],
 "metadata": {
  "kernelspec": {
   "display_name": "Python 2",
   "language": "python",
   "name": "python2"
  },
  "language_info": {
   "codemirror_mode": {
    "name": "ipython",
    "version": 2.0
   },
   "file_extension": ".py",
   "mimetype": "text/x-python",
   "name": "python",
   "nbconvert_exporter": "python",
   "pygments_lexer": "ipython2",
   "version": "2.7.10"
  }
 },
 "nbformat": 4,
 "nbformat_minor": 0
}