{
 "cells": [
  {
   "cell_type": "code",
   "execution_count": 2,
   "metadata": {},
   "outputs": [
    {
     "name": "stdout",
     "output_type": "stream",
     "text": [
      "For ecoli0267vs35.txt\n",
      "[ 0.904       0.63        0.69815873  0.75958558]\n",
      "For ecoli3.txt\n",
      "[ 0.66568254  0.55428571  0.57289909  0.719467  ]\n",
      "For yeast0256vs3789.txt\n",
      "[ 0.65661892  0.53052632  0.57678239  0.71250025]\n",
      "For yeast02579vs368.txt\n",
      "[ 0.80701996  0.78736842  0.79326046  0.87725984]\n",
      "For yeast0359vs78.txt\n",
      "[ 0.55655556  0.36        0.42224178  0.58190214]\n",
      "For yeast2vs4.txt\n",
      "[ 0.87031313  0.692       0.75373367  0.82123751]\n",
      "For yeast3.txt\n",
      "[ 0.76308734  0.7075      0.73030912  0.8274564 ]\n",
      "Overall Avgs -->\n",
      "[ 0.74618249  0.60881149  0.64962646  0.75705839]\n"
     ]
    }
   ],
   "source": [
    "#\n",
    "# Created by Homayoun Heidarzadeh\n",
    "#\n",
    "from base.wdknn import WDKNN\n",
    "from data import data\n",
    "import numpy as np\n",
    "from glob import glob\n",
    "\n",
    "if __name__ == '__main__':\n",
    "    # prepare data\n",
    "    # generate predictions\n",
    "    results = []\n",
    "    for name in glob(\"data/wdknn/*.txt\"):\n",
    "        print \"For\", name.split(\"/\")[-1]\n",
    "        X = data.load_data(name, delm=',')[:, :-1]\n",
    "        label = data.load_data(name, delm=',', dtype=int)[:, -1]\n",
    "        np.random.seed(0)\n",
    "        permutaion = np.random.permutation(X.shape[0])\n",
    "        X = X[permutaion]\n",
    "        label = label[permutaion]\n",
    "        X = (X - X.mean(axis=0)) / X.std(axis=0)\n",
    "        result = WDKNN.cross_validation_for_k([1, 2, 3, 4, 5], X, label)\n",
    "        print result\n",
    "        results.append(result)\n",
    "    print \"Overall Avgs -->\"\n",
    "    print np.mean(results, axis=0)"
   ]
  },
  {
   "cell_type": "code",
   "execution_count": null,
   "metadata": {},
   "outputs": [],
   "source": [
    ""
   ]
  }
 ],
 "metadata": {
  "kernelspec": {
   "display_name": "Python 2",
   "language": "python",
   "name": "python2"
  },
  "language_info": {
   "codemirror_mode": {
    "name": "ipython",
    "version": 2.0
   },
   "file_extension": ".py",
   "mimetype": "text/x-python",
   "name": "python",
   "nbconvert_exporter": "python",
   "pygments_lexer": "ipython2",
   "version": "2.7.10"
  }
 },
 "nbformat": 4,
 "nbformat_minor": 0
}