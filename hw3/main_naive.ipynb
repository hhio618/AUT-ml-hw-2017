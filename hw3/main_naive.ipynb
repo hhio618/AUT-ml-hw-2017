{
 "cells": [
  {
   "cell_type": "code",
   "execution_count": 2,
   "metadata": {},
   "outputs": [
    {
     "name": "stdout",
     "output_type": "stream",
     "text": [
      "Train confusion matrix:\n",
      "[[ 485.   66.]\n",
      " [ 319.  730.]]\n",
      "Train error -> 0.240625\n",
      "Test confusion matrix:\n",
      "[[ 111.   33.]\n",
      " [  85.  171.]]\n",
      "Test error -> 0.295\n"
     ]
    },
    {
     "data": {
      "image/png": "[encoded data removed]",
      "text/plain": [
       "<matplotlib.figure.Figure at 0x10778fe50>"
      ]
     },
     "metadata": {},
     "output_type": "display_data"
    }
   ],
   "source": [
    "from base.gnb import GaussianNaiveBayes\n",
    "from base.utils import confusion_matrix, acc, sens, spec\n",
    "from data import data\n",
    "import numpy as np\n",
    "%matplotlib inline\n",
    "import matplotlib\n",
    "matplotlib.interactive(False)\n",
    "from matplotlib import pyplot\n",
    "\n",
    "\n",
    "def roc(scores, pos, neg, threshold):\n",
    "    return map(lambda x: pos if x >= threshold else neg, scores)\n",
    "\n",
    "\n",
    "if __name__ == '__main__':\n",
    "    train, test = data.load_news()\n",
    "    train = train['train']\n",
    "    test = test['test']\n",
    "    features = train.shape[1] - 1\n",
    "    gnb = GaussianNaiveBayes(features)\n",
    "    gnb.fit(train)\n",
    "\n",
    "    # train accuracy\n",
    "    y_true = train[:, -1]\n",
    "    y_pred = gnb.predict(train[:, :-1])\n",
    "    cm = confusion_matrix(y_true, y_pred)\n",
    "    print \"Train confusion matrix:\"\n",
    "    print cm\n",
    "    print \"Train error ->\", 1.-acc(cm)\n",
    "\n",
    "    # test accuracy\n",
    "    y_true = test[:, -1]\n",
    "    y_pred = gnb.predict(test[:, :-1])\n",
    "    cm = confusion_matrix(y_true, y_pred)\n",
    "    print \"Test confusion matrix:\"\n",
    "    print cm\n",
    "    print \"Test error ->\", 1.-acc(cm)\n",
    "    y_pred = gnb.predict(test[:, :-1])\n",
    "\n",
    "    # draw roc\n",
    "    y_score = gnb.predict(test[:, :-1], score=True)\n",
    "    score_min = min(y_score)\n",
    "    score_max = max(y_score)\n",
    "    area = score_max - score_min\n",
    "    roc_data = []\n",
    "    for score in np.arange(score_min, score_max, area / 200.0):\n",
    "        y_pred = map(lambda x: 1. if x >= score else -1., y_score)\n",
    "        cm = confusion_matrix(y_true, y_pred)\n",
    "        roc_data.append([1 - sens(cm), spec(cm)])\n",
    "    roc_data = np.asarray(roc_data)\n",
    "    pyplot.plot(roc_data[:, 0], roc_data[:, 1])\n",
    "    pyplot.show()"
   ]
  },
  {
   "cell_type": "code",
   "execution_count": null,
   "metadata": {},
   "outputs": [],
   "source": [
    ""
   ]
  }
 ],
 "metadata": {
  "kernelspec": {
   "display_name": "Python 2",
   "language": "python",
   "name": "python2"
  },
  "language_info": {
   "codemirror_mode": {
    "name": "ipython",
    "version": 2.0
   },
   "file_extension": ".py",
   "mimetype": "text/x-python",
   "name": "python",
   "nbconvert_exporter": "python",
   "pygments_lexer": "ipython2",
   "version": "2.7.10"
  }
 },
 "nbformat": 4,
 "nbformat_minor": 0
}