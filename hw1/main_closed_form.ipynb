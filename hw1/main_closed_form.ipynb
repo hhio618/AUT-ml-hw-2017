{
 "cells": [
  {
   "cell_type": "code",
   "execution_count": 8,
   "metadata": {
    "scrolled": false
   },
   "outputs": [],
   "source": [
    "from base.closed_form import ClosedFormRegression\n",
    "from data import data\n",
    "import matplotlib\n",
    "import numpy as np\n",
    "\n",
    "# change this to your own backend\n",
    "matplotlib.interactive(False)\n",
    "import matplotlib.pyplot as plt\n",
    "% matplotlib inline\n",
    "\n",
    "\n",
    "def plot_data_point(X_train, y_train, X_test, y_test):\n",
    "    plt.figure(2,figsize=(8,6), dpi= 80, facecolor='w', edgecolor='k')\n",
    "    plt.ylim([-2,2])\n",
    "    plt.xlabel(\"x\")\n",
    "    plt.ylabel(\"y\")\n",
    "    plt.plot(X_train, y_train, 'o', ms=3, label='Train data')\n",
    "    plt.plot(X_test, y_test, 'x', ms=3, label='Test data')\n",
    "    plt.title('Data point/regression model')\n",
    "\n",
    "\n",
    "def plot_regression_model(model, fmt):\n",
    "    plt.figure(2)\n",
    "    plt.ylim([-2,2])\n",
    "    X = np.arange(-2, 2, 0.01)\n",
    "    y = model.predict(X)\n",
    "    plt.plot(X, y, fmt, label='Model for ' + model.description())\n",
    "    plt.legend(fancybox=True, loc='lower right', framealpha=0.9, prop={'size': 10})\n",
    "\n",
    "\n",
    "def plot_mse(model, mse,fig, fmt, color):\n",
    "    print \"Train MSE for model\", model.description(), \"is\", mse[0]\n",
    "    print \"Test MSE for model\", model.description(), \"is\", mse[1]\n",
    "\n",
    "\n",
    "if __name__ == '__main__':\n",
    "    X_train, y_train, X_test, y_test = data.load(train_coefficient=0.2, normalize=True)\n",
    "    plt.figure()\n",
    "    model3 = ClosedFormRegression(order=3, lambda_var=0)\n",
    "    model5 = ClosedFormRegression(order=5, lambda_var=0)\n",
    "    model7 = ClosedFormRegression(order=7, lambda_var=0)\n",
    "\n",
    "    plot_data_point(X_train, y_train, X_test, y_test)\n",
    "    \n",
    "    # fit model\n",
    "    model3.fit(X_train, y_train)\n",
    "    model5.fit(X_train, y_train)\n",
    "    model7.fit(X_train, y_train)\n",
    "\n",
    "    # calculate mse\n",
    "    mse3 = model3.mse(X_train, y_train), model3.mse(X_test, y_test)\n",
    "    mse5 = model5.mse(X_train, y_train), model5.mse(X_test, y_test)\n",
    "    mse7 = model7.mse(X_train, y_train), model7.mse(X_test, y_test)\n",
    "\n",
    "    # Check if a plot is to be made for the entered alpha\n",
    "    plot_regression_model(model3, 'r')\n",
    "    plot_regression_model(model5, 'y')\n",
    "    plot_regression_model(model7, 'b')\n",
    "\n",
    "    # plot train mse,\n",
    "    plot_mse(model3, mse3,1, '-', 'r')\n",
    "    plot_mse(model5, mse5,2, '-', 'y')\n",
    "    plot_mse(model7, mse7,3, '-', 'b')\n",
    "\n",
    "    # show plots\n",
    "    plt.show()"
   ]
  },
  {
   "cell_type": "code",
   "execution_count": null,
   "metadata": {},
   "outputs": [],
   "source": [
    ""
   ]
  },
  {
   "cell_type": "code",
   "execution_count": null,
   "metadata": {},
   "outputs": [],
   "source": [
    ""
   ]
  }
 ],
 "metadata": {
  "kernelspec": {
   "display_name": "Python 2",
   "language": "python",
   "name": "python2"
  },
  "language_info": {
   "codemirror_mode": {
    "name": "ipython",
    "version": 2.0
   },
   "file_extension": ".py",
   "mimetype": "text/x-python",
   "name": "python",
   "nbconvert_exporter": "python",
   "pygments_lexer": "ipython2",
   "version": "2.7.10"
  }
 },
 "nbformat": 4,
 "nbformat_minor": 0
}